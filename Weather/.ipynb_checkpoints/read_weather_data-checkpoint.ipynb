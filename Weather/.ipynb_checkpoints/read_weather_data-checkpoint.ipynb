{
 "cells": [
  {
   "cell_type": "markdown",
   "metadata": {},
   "source": [
    "# Read weather data from Canada government"
   ]
  },
  {
   "cell_type": "code",
   "execution_count": null,
   "metadata": {
    "id": "hPHyVifQBqL0"
   },
   "outputs": [],
   "source": [
    "import pandas as pd\n",
    "import wget\n",
    "import os"
   ]
  },
  {
   "cell_type": "code",
   "execution_count": null,
   "metadata": {
    "id": "mRgNVD7ot_Eu"
   },
   "outputs": [],
   "source": [
    "# read weather data from: https://climat.meteo.gc.ca/historical_data/search_historic_data_f.html?searchType=stnName&timeframe=1&txtStationName=montreal&searchMethod=contains&optLimit=yearRange&StartYear=1840&EndYear=2024&Year=2024&Month=5&Day=1&selRowPerPage=25#stnNameTab\n",
    "# execute this bash script to download data:\n",
    "\n",
    "# Configuration\n",
    "# output_dir is tbe path to store weather files\n",
    "# stationID is chosen from station inventory\n",
    "station_ID = 51157\n",
    "start_year = 2018\n",
    "end_year = 2025\n",
    "output_dir = \"weather_data\"\n",
    "\n",
    "# Create output directory if it doesn't exist\n",
    "os.makedirs(output_dir, exist_ok=True)\n",
    "\n",
    "# Download loop\n",
    "for year in range(start_year, end_year + 1):\n",
    "    for month in range(1, 13):\n",
    "        url = (\n",
    "            \"https://climate.weather.gc.ca/climate_data/bulk_data_e.html?\"\n",
    "            f\"format=csv&stationID={station_ID}&Year={year}&Month={month}&\"\n",
    "            \"Day=14&timeframe=1&submit=Download+Data\"\n",
    "        )\n",
    "        print(f\"Downloading: {url}\")\n",
    "        try:\n",
    "            wget.download(url, out=output_dir)\n",
    "            print()  # newline after download progress\n",
    "        except Exception as e:\n",
    "            print(f\"\\nFailed to download {url}: {e}\")\n",
    "\n",
    "# StationID used for project:\n",
    "# MONTREAL INTL A: 51157\n",
    "# OTTAWA GATINEAU A: 50719\n",
    "# QUEBEC INTL A: 51457\n",
    "# SHERBROOKE: 48371"
   ]
  },
  {
   "cell_type": "markdown",
   "metadata": {},
   "source": [
    "## Merge files\n",
    "\n",
    "Use the first cell to use complete years only, and the next if the first month is different from January or the last month is different from December."
   ]
  },
  {
   "cell_type": "code",
   "execution_count": null,
   "metadata": {
    "id": "ks9pK1_JBnnB"
   },
   "outputs": [],
   "source": [
    "years = [str(y) for y in range(2018, 2025)]\n",
    "months = [f\"{m:02d}\" for m in range(1, 13)]\n",
    "\n",
    "# Read and combine all monthly CSVs\n",
    "dataframes = [\n",
    "    pd.read_csv(f\"weather_data/en_climate_hourly_QC_7025251_{month}-{year}_P1H.csv\")\n",
    "    for year in years for month in months\n",
    "]\n",
    "\n",
    "# Concatenate and save\n",
    "data_qc = pd.concat(dataframes)\n",
    "data_qc.set_index(\"Date/Time (LST)\", inplace=True)\n",
    "data_qc.to_csv(\"montreal_intl_a_weather_complete_years.csv\")"
   ]
  },
  {
   "cell_type": "code",
   "execution_count": null,
   "metadata": {},
   "outputs": [],
   "source": [
    "# Parameters\n",
    "start_year = 2018\n",
    "end_year = 2025\n",
    "start_month = 1\n",
    "end_month = 4\n",
    "\n",
    "station_id = \"7025251\"\n",
    "folder = \"weather_data\"\n",
    "file_prefix = f\"en_climate_hourly_QC_{station_id}\"\n",
    "\n",
    "dataframes = []\n",
    "\n",
    "for year in range(start_year, end_year + 1):\n",
    "    # Set month range for current year\n",
    "    if year == start_year:\n",
    "        months = range(start_month, 13)\n",
    "    elif year == end_year:\n",
    "        months = range(1, end_month + 1)\n",
    "    else:\n",
    "        months = range(1, 13)\n",
    "\n",
    "    for month in months:\n",
    "        month_str = f\"{month:02d}\"\n",
    "        filename = f\"{folder}/{file_prefix}_{month_str}-{year}_P1H.csv\"\n",
    "        try:\n",
    "            df = pd.read_csv(filename)\n",
    "            dataframes.append(df)\n",
    "        except FileNotFoundError:\n",
    "            print(f\"Warning: {filename} not found, skipping.\")\n",
    "\n",
    "# Concatenate and export\n",
    "if dataframes:\n",
    "    data_qc = pd.concat(dataframes)\n",
    "    data_qc.set_index(\"Date/Time (LST)\", inplace=True)\n",
    "    data_qc.to_csv(\"montreal_intl_a_weather.csv\")\n",
    "    print(\"Weather data saved to montreal_intl_a_weather.csv\")\n",
    "else:\n",
    "    print(\"No data files found.\")"
   ]
  },
  {
   "cell_type": "code",
   "execution_count": null,
   "metadata": {
    "id": "rL9LGCw7DZyI"
   },
   "outputs": [],
   "source": [
    "# read data\n",
    "montreal_weather = pd.read_csv(\"montreal_intl_a_weather.csv\")\n",
    "\n",
    "# map column name\n",
    "column_mapping = {\n",
    "    \"Temp (°C)\": \"temp\",\n",
    "    \"Dew Point Temp (°C)\": \"rel_hum\",\n",
    "    \"Wind Chill\": \"wind_chill\",\n",
    "    \"Wind Spd (km/h)\": \"wind_speed\",\n",
    "    \"Wind Dir (10s deg)\": \"wind_dir\",\n",
    "    \"Weather\": \"condition\",\n",
    "    \"Date/Time (LST)\": \"datetime\"\n",
    "}\n",
    "\n",
    "montreal_weather = montreal_weather.rename(columns=column_mapping)\n",
    "\n",
    "df = pd.DataFrame(montreal_weather)"
   ]
  },
  {
   "cell_type": "code",
   "execution_count": null,
   "metadata": {
    "colab": {
     "base_uri": "https://localhost:8080/",
     "height": 124
    },
    "id": "m2hszZftwiyj",
    "outputId": "9f457434-40fd-4261-d76c-a07ca72cc7f4"
   },
   "outputs": [],
   "source": [
    "df.tail()"
   ]
  }
 ],
 "metadata": {
  "colab": {
   "provenance": []
  },
  "kernelspec": {
   "display_name": "Python 3 (ipykernel)",
   "language": "python",
   "name": "python3"
  },
  "language_info": {
   "codemirror_mode": {
    "name": "ipython",
    "version": 3
   },
   "file_extension": ".py",
   "mimetype": "text/x-python",
   "name": "python",
   "nbconvert_exporter": "python",
   "pygments_lexer": "ipython3",
   "version": "3.12.7"
  }
 },
 "nbformat": 4,
 "nbformat_minor": 4
}
