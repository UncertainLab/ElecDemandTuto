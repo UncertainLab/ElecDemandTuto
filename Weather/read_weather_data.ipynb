{
 "cells": [
  {
   "cell_type": "code",
   "execution_count": null,
   "metadata": {
    "id": "hPHyVifQBqL0"
   },
   "outputs": [],
   "source": [
    "import pandas as pd"
   ]
  },
  {
   "cell_type": "code",
   "execution_count": null,
   "metadata": {
    "id": "mRgNVD7ot_Eu"
   },
   "outputs": [],
   "source": [
    "# read weather data from: https://climat.meteo.gc.ca/historical_data/search_historic_data_f.html?searchType=stnName&timeframe=1&txtStationName=montreal&searchMethod=contains&optLimit=yearRange&StartYear=1840&EndYear=2024&Year=2024&Month=5&Day=1&selRowPerPage=25#stnNameTab\n",
    "# execute this bash script to download data:\n",
    "\n",
    "#!/bin/bash\n",
    "\n",
    "station_ID=51157\n",
    "start_year=2020\n",
    "end_year=2024\n",
    "path=\"weather_data\"\n",
    "\n",
    "for year in $(seq $start_year $end_year); do\n",
    "    for month in $(seq 1 12); do\n",
    "        wget -P ${path} --content-disposition \"https://climate.weather.gc.ca/climate_data/bulk_data_e.html?format=csv&stationID=${station_ID}&Year=${year}&Month=${month}&Day=14&timeframe=1&submit=Download+Data\"\n",
    "    done\n",
    "done\n",
    "\n",
    "# path is tbe path to store weather files\n",
    "# stationID is chosen from station inventory\n",
    "# StationID used for project:\n",
    "\n",
    "# MONTREAL INTL A: 51157\n",
    "# OTTAWA GATINEAU A: 50719\n",
    "# QUEBEC INTL A: 51457\n",
    "# SHERBROOKE: 48371\n"
   ]
  },
  {
   "cell_type": "code",
   "execution_count": null,
   "metadata": {
    "id": "ks9pK1_JBnnB"
   },
   "outputs": [],
   "source": [
    "# merge files\n",
    "\n",
    "months = [\"01\", \"02\", '03', '04', '05', '06', '07', '08', '09', '10', '11', '12']\n",
    "years = ['2018', '2019', '2020', '2021', '2022', '2023']\n",
    "dataframes = []\n",
    "for year in years:\n",
    "    for month in months:\n",
    "        data = pd.read_csv(\"weather_data/en_climate_hourly_QC_7025251_\" + month+ \"-\" + year + \"_P1H.csv\")\n",
    "        dataframes.append(data)\n",
    "\n",
    "data = pd.read_csv(\"weather_data/en_climate_hourly_QC_7025251_01-2024\" + \"_P1H.csv\")\n",
    "dataframes.append(data)\n",
    "\n",
    "data_qc = pd.concat(dataframes)\n",
    "data_qc.set_index(\"Date/Time (LST)\", inplace=True)\n",
    "data_qc.to_csv(\"montreal_intl_a_weather.csv\")"
   ]
  },
  {
   "cell_type": "code",
   "execution_count": null,
   "metadata": {
    "id": "rL9LGCw7DZyI"
   },
   "outputs": [],
   "source": [
    "# read data\n",
    "montreal_weather = pd.read_csv(\"montreal_intl_a_weather.csv\")\n",
    "\n",
    "# map column name\n",
    "column_mapping = {\n",
    "    \"Temp (°C)\": \"temp\",\n",
    "    \"Dew Point Temp (°C)\": \"rel_hum\",\n",
    "    \"Wind Chill\": \"wind_chill\",\n",
    "    \"Wind Spd (km/h)\": \"wind_speed\",\n",
    "    \"Wind Dir (10s deg)\": \"wind_dir\",\n",
    "    \"Weather\": \"condition\",\n",
    "    \"Date/Time (LST)\": \"datetime\"\n",
    "}\n",
    "\n",
    "montreal_weather = montreal_weather.rename(columns=column_mapping)\n",
    "\n",
    "df = pd.DataFrame(montreal_weather)"
   ]
  },
  {
   "cell_type": "code",
   "execution_count": null,
   "metadata": {
    "colab": {
     "base_uri": "https://localhost:8080/",
     "height": 124
    },
    "id": "m2hszZftwiyj",
    "outputId": "9f457434-40fd-4261-d76c-a07ca72cc7f4"
   },
   "outputs": [],
   "source": [
    "df.tail()"
   ]
  },
  {
   "cell_type": "code",
   "execution_count": null,
   "metadata": {},
   "outputs": [],
   "source": []
  }
 ],
 "metadata": {
  "colab": {
   "provenance": []
  },
  "kernelspec": {
   "display_name": "Python 3 (ipykernel)",
   "language": "python",
   "name": "python3"
  },
  "language_info": {
   "codemirror_mode": {
    "name": "ipython",
    "version": 3
   },
   "file_extension": ".py",
   "mimetype": "text/x-python",
   "name": "python",
   "nbconvert_exporter": "python",
   "pygments_lexer": "ipython3",
   "version": "3.11.7"
  }
 },
 "nbformat": 4,
 "nbformat_minor": 1
}
