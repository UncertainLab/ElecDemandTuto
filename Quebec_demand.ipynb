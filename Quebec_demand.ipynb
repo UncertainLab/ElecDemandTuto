{
 "cells": [
  {
   "cell_type": "markdown",
   "id": "0f58ef6e",
   "metadata": {},
   "source": [
    "# Electricity demand in Quebec"
   ]
  },
  {
   "cell_type": "markdown",
   "id": "0066b965",
   "metadata": {},
   "source": [
    "We now focus on electricity consumption in Quebec.\n",
    "\n"
   ]
  },
  {
   "cell_type": "markdown",
   "id": "93288acc",
   "metadata": {},
   "source": [
    "## Hydro-Québec open data"
   ]
  },
  {
   "cell_type": "markdown",
   "id": "1f2428ae",
   "metadata": {},
   "source": [
    "Since 2019, Hydro-Québec shares data on various aspects regarding its operations, at the page https://www.hydroquebec.com/documents-data/open-data/.\n",
    "\n",
    "Here, we are interested in the historical demand: https://www.hydroquebec.com/documents-data/open-data/history-electricity-demand-quebec/. In particular, we can track the hourly total demand in Quebec, noting that\n",
    "> Electricity demand for one hour corresponds to the total average demand during that hour.\n",
    "\n",
    "> The data is determined at the end of a time period. For example, the average hourly demand associated with 2019‑01‑01 2:00 is the average of the data collected from 2019‑01‑01 1:05 to 2019‑01‑01 2:00."
   ]
  },
  {
   "cell_type": "markdown",
   "id": "54ae086d",
   "metadata": {},
   "source": [
    "We will analyze the data using Pandas and Plotly."
   ]
  },
  {
   "cell_type": "code",
   "execution_count": null,
   "id": "cfcffa40",
   "metadata": {},
   "outputs": [],
   "source": [
    "import pandas as pd\n",
    "import numpy as np\n",
    "import matplotlib.pyplot as plt\n",
    "import datetime"
   ]
  },
  {
   "cell_type": "code",
   "execution_count": null,
   "id": "2839201c",
   "metadata": {},
   "outputs": [],
   "source": [
    "import plotly.express as px\n",
    "import plotly.graph_objects as go"
   ]
  },
  {
   "cell_type": "markdown",
   "id": "c10823e2",
   "metadata": {},
   "source": [
    "We consider data from 2020 to 2023 (included)."
   ]
  },
  {
   "cell_type": "code",
   "execution_count": null,
   "id": "cd5d9de2",
   "metadata": {},
   "outputs": [],
   "source": [
    "df = []\n",
    "\n",
    "for i in range(2020,2024):\n",
    "    s = \"data\\\\\"+str(i)+\"-demande-electricite-quebec.xlsx\"\n",
    "    df.append(pd.read_excel(s))\n",
    "    \n",
    "demand_data = pd.concat(df)"
   ]
  },
  {
   "cell_type": "code",
   "execution_count": null,
   "id": "f5c51f8e",
   "metadata": {},
   "outputs": [],
   "source": [
    "demand_data.info()"
   ]
  },
  {
   "cell_type": "markdown",
   "id": "9b71d1cc",
   "metadata": {},
   "source": [
    "We split the date in two columns, one for the day, one for the hour."
   ]
  },
  {
   "cell_type": "code",
   "execution_count": null,
   "id": "7d68bc35",
   "metadata": {},
   "outputs": [],
   "source": [
    "demand_data = demand_data.rename(columns={'Date': 'Datetime'})\n",
    "demand_data['Day'] = pd.to_datetime(demand_data['Datetime']).dt.date\n",
    "demand_data['Hour'] = pd.to_datetime(demand_data['Datetime']).dt.time\n",
    "demand_data.info()"
   ]
  },
  {
   "cell_type": "markdown",
   "id": "5ba89730",
   "metadata": {},
   "source": [
    "We now duplicate the dateframe in order to have a first look in the daily and hourly demands."
   ]
  },
  {
   "cell_type": "code",
   "execution_count": null,
   "id": "45bd2718",
   "metadata": {},
   "outputs": [],
   "source": [
    "daily = demand_data.copy()\n",
    "hourly = demand_data.copy()"
   ]
  },
  {
   "cell_type": "markdown",
   "id": "933532de",
   "metadata": {},
   "source": [
    "We first build the daily consumption data."
   ]
  },
  {
   "cell_type": "code",
   "execution_count": null,
   "id": "be4fc312",
   "metadata": {},
   "outputs": [],
   "source": [
    "daily = daily.groupby(by=[\"Day\"])[\"Moyenne (MW)\"].sum().reset_index()\n",
    "\n",
    "daily.tail()"
   ]
  },
  {
   "cell_type": "code",
   "execution_count": null,
   "id": "0f0ee2f0",
   "metadata": {},
   "outputs": [],
   "source": [
    "plot = go.Figure(px.scatter(hourly, x='Hour', y='Moyenne (MW)'))\n",
    "\n",
    "plot.update_layout(\n",
    "    title = 'Hourly electricity demand',\n",
    "    yaxis_title='Electricity consumption (MW)',\n",
    "    xaxis_title='Hour',\n",
    ")\n",
    "\n",
    "plot.show()"
   ]
  },
  {
   "cell_type": "markdown",
   "id": "26f74157",
   "metadata": {},
   "source": [
    "Let's take a look at the average demand."
   ]
  },
  {
   "cell_type": "code",
   "execution_count": null,
   "id": "859cf181",
   "metadata": {},
   "outputs": [],
   "source": [
    "hourly = hourly.groupby(by=[\"Hour\"])[\"Moyenne (MW)\"].mean().reset_index()\n",
    "\n",
    "plot = go.Figure(px.line(hourly, x='Hour', y='Moyenne (MW)'))\n",
    "\n",
    "plot.update_layout(\n",
    "    title = 'Mean hourly electricity consumption',\n",
    "    yaxis_title='Electricity consumption (MW)',\n",
    "    xaxis_title='Hour',\n",
    ")\n",
    "\n",
    "plot.show()"
   ]
  },
  {
   "cell_type": "markdown",
   "id": "2048aa6f",
   "metadata": {},
   "source": [
    "We observe two electricity demand peaks, one in the morning, and one in the evening."
   ]
  },
  {
   "cell_type": "markdown",
   "id": "93b1eb6b",
   "metadata": {},
   "source": [
    "Let's have a look at the daily patterns."
   ]
  },
  {
   "cell_type": "code",
   "execution_count": null,
   "id": "efe9d58d",
   "metadata": {},
   "outputs": [],
   "source": [
    "plot = go.Figure(px.line(daily, x='Day', y='Moyenne (MW)'))\n",
    "\n",
    "# Update layout\n",
    "plot.update_layout(\n",
    "    title = 'Daily electricity consumption',\n",
    "    yaxis_title='Electricity consumption (MW)',\n",
    "    xaxis_title='Date',\n",
    ")\n",
    "\n",
    "# Show the plot\n",
    "plot.show()"
   ]
  },
  {
   "cell_type": "markdown",
   "id": "a60a4812",
   "metadata": {},
   "source": [
    "We can observe a seasonality effect, with a much higher consumption during the Winter. This suggests that the consumption is highly correlated with the temperature."
   ]
  },
  {
   "cell_type": "markdown",
   "id": "4c8a4802",
   "metadata": {},
   "source": [
    "But we can face an atypical day, more difficult to forecast."
   ]
  },
  {
   "cell_type": "code",
   "execution_count": null,
   "id": "816a2a85",
   "metadata": {},
   "outputs": [],
   "source": [
    "demand_data['Day'] = demand_data['Day'].astype(str)\n",
    "df = demand_data.loc[demand_data['Day'] == \"2023-02-03\"] \n",
    "\n",
    "plot = go.Figure(px.line(df, x='Hour', y='Moyenne (MW)'))\n",
    "\n",
    "# Update layout\n",
    "plot.update_layout(\n",
    "    title = \"A cold day (2023-02-03; BQ record)\",\n",
    "    yaxis_title='Electricity consumption (MW)',\n",
    "    xaxis_title='Hour',\n",
    ")\n",
    "\n",
    "# Show the plot\n",
    "plot.show()"
   ]
  },
  {
   "cell_type": "markdown",
   "id": "e97abb2c",
   "metadata": {},
   "source": [
    "## Weather information"
   ]
  },
  {
   "cell_type": "markdown",
   "id": "803920b6",
   "metadata": {},
   "source": [
    "Weather historical date can be retrieved from https://climate.weather.gc.ca/historical_data/search_historic_data_e.html\n",
    "\n",
    "More explanations about the columns are available at https://www.canada.ca/en/environment-climate-change/services/climate-change/canadian-centre-climate-services/display-download/technical-documentation-hourly-data.html"
   ]
  },
  {
   "cell_type": "markdown",
   "id": "1d1801e2",
   "metadata": {},
   "source": [
    "Data are downloaded using the bash script\n",
    "\n",
    "```{verbatin}\n",
    "#!/bin/bash\n",
    "\n",
    "station_ID=51157\n",
    "start_year=2020\n",
    "end_year=2024\n",
    "path=\"weather_data\"\n",
    "\n",
    "for year in $(seq $start_year $end_year); do\n",
    "    for month in $(seq 1 12); do\n",
    "        wget -P ${path} --content-disposition \"https://climate.weather.gc.ca/climate_data/bulk_data_e.html?format=csv&stationID=${station_ID}&Year=${year}&Month=${month}&Day=14&timeframe=1&submit=Download+Data\"\n",
    "    done\n",
    "done\n",
    "```\n",
    "Main components:\n",
    "- \"weather_data\" is the path where the data files will be stored;\n",
    "- stationID designs the weather data station.\n",
    "\n",
    "We use the MONTREAL INTL A (51157) station and merge the monthly data in a single CSV file.\n",
    "\n",
    "Now, we can read it."
   ]
  },
  {
   "cell_type": "code",
   "execution_count": null,
   "id": "3812beda",
   "metadata": {},
   "outputs": [],
   "source": [
    "YUL_weather = pd.read_csv(\"data\\\\montreal_intl_a_weather.csv\", dtype={\"Precip. Amount Flag\": \"string\", \"Visibility Flag\": \"string\"})"
   ]
  },
  {
   "cell_type": "code",
   "execution_count": null,
   "id": "c8809fc4",
   "metadata": {},
   "outputs": [],
   "source": [
    "# map column name\n",
    "column_mapping = {\n",
    "    \"Temp (°C)\": \"temp\",\n",
    "    \"Dew Point Temp (°C)\": \"rel_hum\",\n",
    "    \"Wind Chill\": \"wind_chill\",\n",
    "    \"Wind Spd (km/h)\": \"wind_speed\",\n",
    "    \"Wind Dir (10s deg)\": \"wind_dir\",\n",
    "    \"Weather\": \"condition\",\n",
    "    \"Date/Time (LST)\": \"Datetime\"\n",
    "}\n",
    "\n",
    "YUL_weather = YUL_weather.rename(columns=column_mapping)\n",
    "\n",
    "YUL_weather.info()"
   ]
  },
  {
   "cell_type": "markdown",
   "id": "33d8e5c9",
   "metadata": {},
   "source": [
    "We do some cleaning by first removing all columns with 0 entry."
   ]
  },
  {
   "cell_type": "code",
   "execution_count": null,
   "id": "2881c901",
   "metadata": {},
   "outputs": [],
   "source": [
    "YUL_weather.dropna(how='all', axis=1, inplace=True)"
   ]
  },
  {
   "cell_type": "markdown",
   "id": "9dfd98a0",
   "metadata": {},
   "source": [
    "We also drop columns with a unique value."
   ]
  },
  {
   "cell_type": "code",
   "execution_count": null,
   "id": "cd0fcf20",
   "metadata": {},
   "outputs": [],
   "source": [
    "for col in YUL_weather.columns:\n",
    "    if len(YUL_weather[col].unique()) == 1:\n",
    "        YUL_weather.drop(col,inplace=True,axis=1)"
   ]
  },
  {
   "cell_type": "markdown",
   "id": "79d972ec",
   "metadata": {},
   "source": [
    "We now reformat the date and time column to make it similar to the demand dataframe."
   ]
  },
  {
   "cell_type": "code",
   "execution_count": null,
   "id": "f0a010b9",
   "metadata": {},
   "outputs": [],
   "source": [
    "# YUL_weather['datetime'] = pd.to_datetime(YUL_weather['datetime'], format='mixed')\n",
    "YUL_weather['Datetime'] = pd.to_datetime(YUL_weather['Datetime'])"
   ]
  },
  {
   "cell_type": "markdown",
   "id": "56d86b3c",
   "metadata": {},
   "source": [
    "Let's check the obtained dataframe."
   ]
  },
  {
   "cell_type": "code",
   "execution_count": null,
   "id": "33de1546",
   "metadata": {},
   "outputs": [],
   "source": [
    "YUL_weather.tail()"
   ]
  },
  {
   "cell_type": "code",
   "execution_count": null,
   "id": "5b1e7a10",
   "metadata": {},
   "outputs": [],
   "source": [
    "YUL_weather.info()"
   ]
  },
  {
   "cell_type": "markdown",
   "id": "df7f2a97",
   "metadata": {},
   "source": [
    "We align the date range with the electricity demand dataframe."
   ]
  },
  {
   "cell_type": "code",
   "execution_count": null,
   "id": "a363a146",
   "metadata": {},
   "outputs": [],
   "source": [
    "start = \"2020-01-01 01:00:00\"\n",
    "end = \"2024-01-01 00:00:00\"\n",
    "YUL_weather.drop(YUL_weather[YUL_weather['Datetime'] < start].index, inplace=True)\n",
    "YUL_weather.drop(YUL_weather[YUL_weather['Datetime'] > end].index, inplace=True)"
   ]
  },
  {
   "cell_type": "code",
   "execution_count": null,
   "id": "49a30e38",
   "metadata": {},
   "outputs": [],
   "source": [
    "YUL_weather.info()"
   ]
  },
  {
   "cell_type": "code",
   "execution_count": null,
   "id": "3bd483aa",
   "metadata": {},
   "outputs": [],
   "source": [
    "YUL_weather.tail()"
   ]
  },
  {
   "cell_type": "markdown",
   "id": "243a786f",
   "metadata": {},
   "source": [
    "We merge the demand and weather database in order to analyze the relationships between the electricity consumption and the weather conditions."
   ]
  },
  {
   "cell_type": "code",
   "execution_count": null,
   "id": "22274d67",
   "metadata": {},
   "outputs": [],
   "source": [
    "result = pd.merge(demand_data, YUL_weather, on=\"Datetime\")"
   ]
  },
  {
   "cell_type": "markdown",
   "id": "b761658e",
   "metadata": {},
   "source": [
    "We are now in position to observe the relations between the weather and the demand. We will here focus on the temperature."
   ]
  },
  {
   "cell_type": "code",
   "execution_count": null,
   "id": "af259b82",
   "metadata": {},
   "outputs": [],
   "source": [
    "plot = go.Figure(px.scatter(result, x='temp', y='Moyenne (MW)'))\n",
    "\n",
    "# Update layout\n",
    "plot.update_layout(\n",
    "    title = 'Temperature and consumption',\n",
    "    yaxis_title='Electricity consumption (MW)',\n",
    "    xaxis_title='Temperature',\n",
    ")\n",
    "\n",
    "# Show the plot\n",
    "plot.show()"
   ]
  },
  {
   "cell_type": "markdown",
   "id": "775d7627",
   "metadata": {},
   "source": [
    "Quick observations:\n",
    "- cold temperatures lead to higher consumption, mainly due to the heating;\n",
    "- we start to observe an effect due to air conditioning at high temperatures."
   ]
  }
 ],
 "metadata": {
  "kernelspec": {
   "display_name": "Python 3 (ipykernel)",
   "language": "python",
   "name": "python3"
  },
  "language_info": {
   "codemirror_mode": {
    "name": "ipython",
    "version": 3
   },
   "file_extension": ".py",
   "mimetype": "text/x-python",
   "name": "python",
   "nbconvert_exporter": "python",
   "pygments_lexer": "ipython3",
   "version": "3.11.7"
  }
 },
 "nbformat": 4,
 "nbformat_minor": 5
}
