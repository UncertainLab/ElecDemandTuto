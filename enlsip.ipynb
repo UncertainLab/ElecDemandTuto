{
 "cells": [
  {
   "cell_type": "markdown",
   "id": "3c1de3ab",
   "metadata": {},
   "source": [
    "# ENLSIP in Julia and patrimonial models"
   ]
  },
  {
   "cell_type": "markdown",
   "id": "7cfbcdfd",
   "metadata": {},
   "source": [
    "This package, described at https://uncertainlab.github.io/Enlsip.jl/, is the Julia version of ``ENLSIP`` (Easy Nonlinear Least Squares Inequality Program), an open-source Fortran77 library, available at http://plato.asu.edu/ftp/other_software/ENLSIP.tar.gz."
   ]
  },
  {
   "cell_type": "markdown",
   "id": "744a85f3",
   "metadata": {},
   "source": [
    "This type of problem is mathematically formulated as:\n",
    "\\begin{equation}\\label{eq:cnlls}\n",
    "         \\quad \\begin{aligned}  \n",
    "                        \\quad\t\\min_{x \\in \\mathbb{R}^n}        \\quad&  \\dfrac{1}{2} \\sum_{i=1}^{m} r_i(x)^2  \\\\\n",
    "                        \\text{s.t.}      \\quad & c_i(x)=0, \\quad i =1,\\ldots,q\\\\\n",
    "                        & c_i(x) \\geq 0, \\quad i=q+1,\\ldots,\\ell,\n",
    "        \\end{aligned}\n",
    "\\end{equation}\n",
    "\n",
    "where the functions $(r_1,\\ldots,r_m)$, often denoted as the residuals, and constraints $(c_1,\\ldots,c_\\ell)$ are two-times differentiable."
   ]
  },
  {
   "cell_type": "markdown",
   "id": "027fd7b6",
   "metadata": {},
   "source": [
    "## Chained Rosenbrock problem\n",
    "\n",
    "Consider the following problem:\n",
    "$$\n",
    "\\min \\sum_{i=1}^{n−1} 100(x_i^2−x_{i+1})^2+(x_i−1)^2\\\\\n",
    "\\rm{s.t.\\ } 3x_{k+1}^3+2x_{k+2}+\\sin⁡(x_{k+1}−x_{k+2})\\sin⁡(x_{k+1}+x_{k+2})+4x_{k+1}−x_k\\exp⁡(x_k−x_{k+1})−8=0,\\ k=1,\\ldots,n−2,\n",
    "$$\n",
    "for a given natural number $n \\geq 3$.\n",
    "\n",
    "We use $n=1000$. Though analytic Jacobians are easy to define, we will rely on automatic differentiation."
   ]
  },
  {
   "cell_type": "code",
   "execution_count": null,
   "id": "a2acffb9",
   "metadata": {},
   "outputs": [],
   "source": [
    "using Enlsip"
   ]
  },
  {
   "cell_type": "code",
   "execution_count": null,
   "id": "4bde6131",
   "metadata": {},
   "outputs": [],
   "source": [
    "# Dimensions\n",
    "n = 1000 # Number of variables\n",
    "m = 2(n-1) # Number of residuals\n",
    "nb_eq = n-2 # Number of equality constraints\n",
    "\n",
    "# Residuals\n",
    "function r(x::Vector)\n",
    "    n = length(x)\n",
    "    m = 2(n-1)\n",
    "    rx = Vector{eltype(x)}(undef,m)\n",
    "    rx[1:n-1] = [10(x[i]^2 - x[i+1]) for i=1:n-1]\n",
    "    rx[n:m] = [x[k-n+1] - 1 for k=n:m]\n",
    "    return rx\n",
    "end\n",
    "\n",
    "# Constraints\n",
    "function c(x::Vector)\n",
    "    n = length(x)\n",
    "    cx = [3x[k+1]^3 + 2x[k+2] - 5 + sin(x[k+1]-x[k+2])*sin(x[k+1]+x[k+2]) + 4x[k+1] -\n",
    "        x[k]*exp(x[k]-x[k+1]) - 3 for k=1:n-2]\n",
    "    return cx\n",
    "end\n",
    "\n",
    "x0 = [(mod(i,2) == 1 ? -1.2 : 1.0) for i=1:n] # Starting point\n",
    "\n",
    "# Instantiation of the model\n",
    "Crmodel = CnlsModel(r,n,m; starting_point=x0, eq_constraints=c, nb_eqcons=nb_eq)\n",
    "\n",
    "# Solving\n",
    "Enlsip.solve!(Crmodel)\n",
    "\n",
    "# Show solving status\n",
    "Enlsip.status(Crmodel)"
   ]
  },
  {
   "cell_type": "code",
   "execution_count": null,
   "id": "12c834a4",
   "metadata": {},
   "outputs": [],
   "source": [
    "Enlsip.solution(Crmodel)"
   ]
  },
  {
   "cell_type": "markdown",
   "id": "b99767d0",
   "metadata": {},
   "source": [
    "## Numerical experiments on CM1 problems"
   ]
  },
  {
   "cell_type": "markdown",
   "id": "18caefcb",
   "metadata": {},
   "source": [
    "The performance of the two versions have been compared on problems derived from Hydro-Québec operations and also problems from the literature. We illustrate this comparison on the estimation of CM1 (Carole Mercier-1) model parameters; it is a nonlinear regression model used for the hourly load forecast [@grenieretal:2006]. The calibration process requires the use of weather data collected across the province of Quebec. The configuration of this model can be adapted to the number of parameters to be calibrated and the amount of data to be used. In total, 90 different instances can be thus defined with the following features:\n",
    "\n",
    "- from 258 to 726 parameters,\n",
    "- from 468 to 716 total constraints (with 2 to 10 equalities),\n",
    "- from 4392 to 17,568 residuals."
   ]
  },
  {
   "cell_type": "markdown",
   "id": "c03d60be",
   "metadata": {},
   "source": [
    "Dolan-Moré performance profile (Dolan & Moré, 2002)"
   ]
  },
  {
   "attachments": {
    "performance_profile_cm1.png": {
     "image/png": "[encoded data removed]"
    }
   },
   "cell_type": "markdown",
   "id": "d3f437ed",
   "metadata": {},
   "source": [
    "![performance_profile_cm1.png](attachment:performance_profile_cm1.png)"
   ]
  },
  {
   "cell_type": "code",
   "execution_count": null,
   "id": "1c128f9b",
   "metadata": {},
   "outputs": [],
   "source": []
  }
 ],
 "metadata": {
  "kernelspec": {
   "display_name": "Julia 1.10.3",
   "language": "julia",
   "name": "julia-1.10"
  },
  "language_info": {
   "file_extension": ".jl",
   "mimetype": "application/julia",
   "name": "julia",
   "version": "1.10.3"
  }
 },
 "nbformat": 4,
 "nbformat_minor": 5
}
